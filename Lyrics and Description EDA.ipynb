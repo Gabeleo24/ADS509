{
 "cells": [
  {
   "cell_type": "markdown",
   "id": "41ce2170",
   "metadata": {},
   "source": [
    "# ADS 509 Assignment 2.1: Tokenization, Normalization, Descriptive Statistics \n",
    "\n",
    "This notebook holds Assignment 2.1 for Module 2 in ADS 509, Applied Text Mining. Work through this notebook, writing code and answering questions where required. \n",
    "\n",
    "In the previous assignment you put together Twitter data and lyrics data on two artists. In this assignment we explore some of the textual features of those data sets. If, for some reason, you did not complete that previous assignment, data to use for this assignment can be found in the assignment materials section of Blackboard. \n",
    "\n",
    "This assignment asks you to write a short function to calculate some descriptive statistics on a piece of text. Then you are asked to find some interesting and unique statistics on your corpora. \n"
   ]
  },
  {
   "cell_type": "code",
   "execution_count": null,
   "id": "5e54ed00-76cf-44f0-99b4-39be39949b77",
   "metadata": {},
   "outputs": [],
   "source": []
  },
  {
   "cell_type": "markdown",
   "id": "aae8e2e1",
   "metadata": {},
   "source": [
    "## General Assignment Instructions\n",
    "\n",
    "These instructions are included in every assignment, to remind you of the coding standards for the class. Feel free to delete this cell after reading it. \n",
    "\n",
    "One sign of mature code is conforming to a style guide. We recommend the [Google Python Style Guide](https://google.github.io/styleguide/pyguide.html). If you use a different style guide, please include a cell with a link. \n",
    "\n",
    "Your code should be relatively easy-to-read, sensibly commented, and clean. Writing code is a messy process, so please be sure to edit your final submission. Remove any cells that are not needed or parts of cells that contain unnecessary code. Remove inessential `import` statements and make sure that all such statements are moved into the designated cell. \n",
    "\n",
    "Make use of non-code cells for written commentary. These cells should be grammatical and clearly written. In some of these cells you will have questions to answer. The questions will be marked by a \"Q:\" and will have a corresponding \"A:\" spot for you. *Make sure to answer every question marked with a `Q:` for full credit.* \n"
   ]
  },
  {
   "cell_type": "code",
   "execution_count": 2,
   "id": "38409558",
   "metadata": {},
   "outputs": [
    {
     "name": "stderr",
     "output_type": "stream",
     "text": [
      "[nltk_data] Downloading package stopwords to /Users/home/nltk_data...\n",
      "[nltk_data]   Package stopwords is already up-to-date!\n"
     ]
    },
    {
     "data": {
      "text/plain": [
       "True"
      ]
     },
     "execution_count": 2,
     "metadata": {},
     "output_type": "execute_result"
    }
   ],
   "source": [
    "import nltk\n",
    "nltk.download('stopwords')"
   ]
  },
  {
   "cell_type": "code",
   "execution_count": 5,
   "id": "e2d096b7",
   "metadata": {},
   "outputs": [],
   "source": [
    "import os\n",
    "import re\n",
    "import emoji\n",
    "import pandas as pd\n",
    "import numpy as np\n",
    "\n",
    "from collections import Counter, defaultdict\n",
    "from nltk.corpus import stopwords\n",
    "from string import punctuation\n",
    "\n",
    "sw = stopwords.words(\"english\")"
   ]
  },
  {
   "cell_type": "code",
   "execution_count": 6,
   "id": "9a245ddf",
   "metadata": {},
   "outputs": [],
   "source": [
    "# Add any additional import statements you need here\n",
    "\n",
    "\n"
   ]
  },
  {
   "cell_type": "code",
   "execution_count": 7,
   "id": "923b5a86",
   "metadata": {},
   "outputs": [],
   "source": [
    "# Update the data location and folder paths\n",
    "data_location = \"/app\"  # Root directory inside the container\n",
    "twitter_folder = \"M1 Results/twitter\"\n",
    "lyrics_folder = \"M1 Results/lyrics\""
   ]
  },
  {
   "cell_type": "code",
   "execution_count": 8,
   "id": "06522af9",
   "metadata": {},
   "outputs": [],
   "source": [
    "def descriptive_stats(tokens, num_tokens = 5, verbose=True) :\n",
    "    \"\"\"\n",
    "        Given a list of tokens, print number of tokens, number of unique tokens, \n",
    "        number of characters, lexical diversity (https://en.wikipedia.org/wiki/Lexical_diversity), \n",
    "        and num_tokens most common tokens. Return a list with the number of tokens, number\n",
    "        of unique tokens, lexical diversity, and number of characters. \n",
    "    \"\"\"\n",
    "    # Calculate statistics\n",
    "    num_tokens = len(tokens)\n",
    "    num_unique_tokens = len(set(tokens))\n",
    "    lexical_diversity = num_unique_tokens / num_tokens if num_tokens > 0 else 0.0\n",
    "    num_characters = sum(len(token) for token in tokens)\n",
    "    \n",
    "    if verbose:        \n",
    "        print(f\"There are {num_tokens} tokens in the data.\")\n",
    "        print(f\"There are {num_unique_tokens} unique tokens in the data.\")\n",
    "        print(f\"There are {num_characters} characters in the data.\")\n",
    "        print(f\"The lexical diversity is {lexical_diversity:.3f} in the data.\")\n",
    "    \n",
    "        # print the five most common tokens\n",
    "        token_counts = Counter(tokens)\n",
    "        most_common = token_counts.most_common(num_tokens)\n",
    "        print(f\"The {num_tokens} most common tokens:\")\n",
    "        for token, count in most_common:\n",
    "            print(f\"  {token}: {count}\")\n",
    "    \n",
    "    return([num_tokens, num_unique_tokens,\n",
    "            lexical_diversity,\n",
    "            num_characters])"
   ]
  },
  {
   "cell_type": "code",
   "execution_count": 9,
   "id": "59dcf058",
   "metadata": {},
   "outputs": [
    {
     "name": "stdout",
     "output_type": "stream",
     "text": [
      "There are 13 tokens in the data.\n",
      "There are 9 unique tokens in the data.\n",
      "There are 55 characters in the data.\n",
      "The lexical diversity is 0.692 in the data.\n",
      "The 13 most common tokens:\n",
      "  text: 3\n",
      "  here: 2\n",
      "  example: 2\n",
      "  is: 1\n",
      "  some: 1\n",
      "  with: 1\n",
      "  other: 1\n",
      "  in: 1\n",
      "  this: 1\n"
     ]
    }
   ],
   "source": [
    "text = \"\"\"here is some example text with other example text here in this text\"\"\".split()\n",
    "assert(descriptive_stats(text, verbose=True)[0] == 13)\n",
    "assert(descriptive_stats(text, verbose=False)[1] == 9)\n",
    "assert(abs(descriptive_stats(text, verbose=False)[2] - 0.69) < 0.02)\n",
    "assert(descriptive_stats(text, verbose=False)[3] == 55)\n"
   ]
  },
  {
   "cell_type": "markdown",
   "id": "d2e7e1a2",
   "metadata": {},
   "source": [
    "Q: Why is it beneficial to use assertion statements in your code? \n",
    "\n",
    "A: Assertion statements are beneficial because they:\n",
    "\n",
    "Catch Bugs Early: They help find logical errors during development by immediately stopping the program when an unexpected condition occurs.\n",
    "Document Assumptions: They clearly state what a programmer assumes to be true at a certain point in the code.\n",
    "Simplify Debugging: When an assertion fails, it points directly to the problem's location and nature.\n",
    "Verify Internal State: They check if your code's internal conditions (like variable states or function outputs) are as expected.\n",
    "Can Be Disabled: Assertions are often disabled in production code, so they don't slow it down, making them ideal for development and testing.\n",
    "Essentially, assertions are a developer's tool to ensure code correctness and make debugging easier by checking for \"impossible\" situations. They are for finding programmer errors, not for handling regular runtime errors (like bad user input)."
   ]
  },
  {
   "cell_type": "markdown",
   "id": "9d3bf93e",
   "metadata": {},
   "source": [
    "## Data Input\n",
    "\n",
    "Now read in each of the corpora. For the lyrics data, it may be convenient to store the entire contents of the file to make it easier to inspect the titles individually, as you'll do in the last part of the assignment. In the solution, I stored the lyrics data in a dictionary with two dimensions of keys: artist and song. The value was the file contents. A data frame would work equally well. \n",
    "\n",
    "For the Twitter data, we only need the description field for this assignment. Feel free all the descriptions read it into a data structure. In the solution, I stored the descriptions as a dictionary of lists, with the key being the artist. \n",
    "\n",
    "\n"
   ]
  },
  {
   "cell_type": "code",
   "execution_count": 10,
   "id": "360934ff",
   "metadata": {},
   "outputs": [
    {
     "name": "stdout",
     "output_type": "stream",
     "text": [
      "Warning: Lyrics folder not found at /Users/home/Documents/GitHub/ADS509_2.1/ADS509_2.1/notebooks/M1 Results/lyrics\n",
      "Found Twitter folder at /Users/home/Documents/GitHub/ADS509_2.1/ADS509_2.1/notebooks/M1 Results/twitter\n"
     ]
    },
    {
     "ename": "FileNotFoundError",
     "evalue": "[Errno 2] No such file or directory: '/Users/home/Documents/GitHub/ADS509_2.1/ADS509_2.1/notebooks/M1 Results/twitter/cher_followers_data.txt'",
     "output_type": "error",
     "traceback": [
      "\u001b[0;31m---------------------------------------------------------------------------\u001b[0m",
      "\u001b[0;31mFileNotFoundError\u001b[0m                         Traceback (most recent call last)",
      "Cell \u001b[0;32mIn[10], line 34\u001b[0m\n\u001b[1;32m     32\u001b[0m \u001b[38;5;28;01mfor\u001b[39;00m filename \u001b[38;5;129;01min\u001b[39;00m os\u001b[38;5;241m.\u001b[39mlistdir(twitter_path):\n\u001b[1;32m     33\u001b[0m     \u001b[38;5;28;01mif\u001b[39;00m filename\u001b[38;5;241m.\u001b[39mendswith(\u001b[38;5;124m'\u001b[39m\u001b[38;5;124m.txt\u001b[39m\u001b[38;5;124m'\u001b[39m):\n\u001b[0;32m---> 34\u001b[0m         \u001b[38;5;28;01mwith\u001b[39;00m \u001b[38;5;28;43mopen\u001b[39;49m\u001b[43m(\u001b[49m\u001b[43mos\u001b[49m\u001b[38;5;241;43m.\u001b[39;49m\u001b[43mpath\u001b[49m\u001b[38;5;241;43m.\u001b[39;49m\u001b[43mjoin\u001b[49m\u001b[43m(\u001b[49m\u001b[43mtwitter_path\u001b[49m\u001b[43m,\u001b[49m\u001b[43m \u001b[49m\u001b[43mfilename\u001b[49m\u001b[43m)\u001b[49m\u001b[43m,\u001b[49m\u001b[43m \u001b[49m\u001b[38;5;124;43m'\u001b[39;49m\u001b[38;5;124;43mr\u001b[39;49m\u001b[38;5;124;43m'\u001b[39;49m\u001b[43m,\u001b[49m\u001b[43m \u001b[49m\u001b[43mencoding\u001b[49m\u001b[38;5;241;43m=\u001b[39;49m\u001b[38;5;124;43m'\u001b[39;49m\u001b[38;5;124;43mutf-8\u001b[39;49m\u001b[38;5;124;43m'\u001b[39;49m\u001b[43m)\u001b[49m \u001b[38;5;28;01mas\u001b[39;00m f:\n\u001b[1;32m     35\u001b[0m             twitter_data[filename\u001b[38;5;241m.\u001b[39mreplace(\u001b[38;5;124m'\u001b[39m\u001b[38;5;124m.txt\u001b[39m\u001b[38;5;124m'\u001b[39m, \u001b[38;5;124m'\u001b[39m\u001b[38;5;124m'\u001b[39m)] \u001b[38;5;241m=\u001b[39m f\u001b[38;5;241m.\u001b[39mread()\n\u001b[1;32m     36\u001b[0m \u001b[38;5;28mprint\u001b[39m(\u001b[38;5;124mf\u001b[39m\u001b[38;5;124m\"\u001b[39m\u001b[38;5;124mSuccessfully loaded \u001b[39m\u001b[38;5;132;01m{\u001b[39;00m\u001b[38;5;28mlen\u001b[39m(twitter_data)\u001b[38;5;132;01m}\u001b[39;00m\u001b[38;5;124m Twitter files\u001b[39m\u001b[38;5;124m\"\u001b[39m)\n",
      "File \u001b[0;32m~/.pyenv/versions/3.11.6/lib/python3.11/site-packages/IPython/core/interactiveshell.py:324\u001b[0m, in \u001b[0;36m_modified_open\u001b[0;34m(file, *args, **kwargs)\u001b[0m\n\u001b[1;32m    317\u001b[0m \u001b[38;5;28;01mif\u001b[39;00m file \u001b[38;5;129;01min\u001b[39;00m {\u001b[38;5;241m0\u001b[39m, \u001b[38;5;241m1\u001b[39m, \u001b[38;5;241m2\u001b[39m}:\n\u001b[1;32m    318\u001b[0m     \u001b[38;5;28;01mraise\u001b[39;00m \u001b[38;5;167;01mValueError\u001b[39;00m(\n\u001b[1;32m    319\u001b[0m         \u001b[38;5;124mf\u001b[39m\u001b[38;5;124m\"\u001b[39m\u001b[38;5;124mIPython won\u001b[39m\u001b[38;5;124m'\u001b[39m\u001b[38;5;124mt let you open fd=\u001b[39m\u001b[38;5;132;01m{\u001b[39;00mfile\u001b[38;5;132;01m}\u001b[39;00m\u001b[38;5;124m by default \u001b[39m\u001b[38;5;124m\"\u001b[39m\n\u001b[1;32m    320\u001b[0m         \u001b[38;5;124m\"\u001b[39m\u001b[38;5;124mas it is likely to crash IPython. If you know what you are doing, \u001b[39m\u001b[38;5;124m\"\u001b[39m\n\u001b[1;32m    321\u001b[0m         \u001b[38;5;124m\"\u001b[39m\u001b[38;5;124myou can use builtins\u001b[39m\u001b[38;5;124m'\u001b[39m\u001b[38;5;124m open.\u001b[39m\u001b[38;5;124m\"\u001b[39m\n\u001b[1;32m    322\u001b[0m     )\n\u001b[0;32m--> 324\u001b[0m \u001b[38;5;28;01mreturn\u001b[39;00m \u001b[43mio_open\u001b[49m\u001b[43m(\u001b[49m\u001b[43mfile\u001b[49m\u001b[43m,\u001b[49m\u001b[43m \u001b[49m\u001b[38;5;241;43m*\u001b[39;49m\u001b[43margs\u001b[49m\u001b[43m,\u001b[49m\u001b[43m \u001b[49m\u001b[38;5;241;43m*\u001b[39;49m\u001b[38;5;241;43m*\u001b[39;49m\u001b[43mkwargs\u001b[49m\u001b[43m)\u001b[49m\n",
      "\u001b[0;31mFileNotFoundError\u001b[0m: [Errno 2] No such file or directory: '/Users/home/Documents/GitHub/ADS509_2.1/ADS509_2.1/notebooks/M1 Results/twitter/cher_followers_data.txt'"
     ]
    }
   ],
   "source": [
    "# Update the data location and folder paths to match your exact directory structure\n",
    "data_location = \"/Users/home/Documents/GitHub/ADS509_2.1/ADS509_2.1/notebooks\"\n",
    "lyrics_folder = \"M1 Results/lyrics\"\n",
    "twitter_folder = \"M1 Results/twitter\"\n",
    "\n",
    "# Read in the lyrics data\n",
    "lyrics_data = {}\n",
    "lyrics_path = os.path.join(data_location, lyrics_folder)\n",
    "\n",
    "if not os.path.exists(lyrics_path):\n",
    "    print(f\"Warning: Lyrics folder not found at {lyrics_path}\")\n",
    "else:\n",
    "    print(f\"Found Lyrics folder at {lyrics_path}\")\n",
    "    for artist_folder in os.listdir(lyrics_path):\n",
    "        artist_path = os.path.join(lyrics_path, artist_folder)\n",
    "        if os.path.isdir(artist_path):\n",
    "            lyrics_data[artist_folder] = {}\n",
    "            for filename in os.listdir(artist_path):\n",
    "                if filename.endswith('.txt'):\n",
    "                    with open(os.path.join(artist_path, filename), 'r', encoding='utf-8') as f:\n",
    "                        lyrics_data[artist_folder][filename.replace('.txt', '')] = f.read()\n",
    "    print(f\"Successfully loaded lyrics for {len(lyrics_data)} artists\")\n",
    "\n",
    "# Read in the twitter data\n",
    "twitter_data = {}\n",
    "twitter_path = os.path.join(data_location, twitter_folder)\n",
    "\n",
    "if not os.path.exists(twitter_path):\n",
    "    print(f\"Warning: Twitter folder not found at {twitter_path}\")\n",
    "else:\n",
    "    print(f\"Found Twitter folder at {twitter_path}\")\n",
    "    for filename in os.listdir(twitter_path):\n",
    "        if filename.endswith('.txt'):\n",
    "            with open(os.path.join(twitter_path, filename), 'r', encoding='utf-8') as f:\n",
    "                twitter_data[filename.replace('.txt', '')] = f.read()\n",
    "    print(f\"Successfully loaded {len(twitter_data)} Twitter files\")"
   ]
  },
  {
   "cell_type": "code",
   "execution_count": 11,
   "id": "d281db41",
   "metadata": {},
   "outputs": [
    {
     "name": "stdout",
     "output_type": "stream",
     "text": [
      "Found Twitter folder at /Users/home/Documents/GitHub/ADS509_2.1/ADS509_2.1/notebooks/M1 Results/twitter\n"
     ]
    },
    {
     "ename": "FileNotFoundError",
     "evalue": "[Errno 2] No such file or directory: '/Users/home/Documents/GitHub/ADS509_2.1/ADS509_2.1/notebooks/M1 Results/twitter/cher_followers_data.txt'",
     "output_type": "error",
     "traceback": [
      "\u001b[0;31m---------------------------------------------------------------------------\u001b[0m",
      "\u001b[0;31mFileNotFoundError\u001b[0m                         Traceback (most recent call last)",
      "Cell \u001b[0;32mIn[11], line 11\u001b[0m\n\u001b[1;32m      9\u001b[0m \u001b[38;5;28;01mfor\u001b[39;00m filename \u001b[38;5;129;01min\u001b[39;00m os\u001b[38;5;241m.\u001b[39mlistdir(twitter_path):\n\u001b[1;32m     10\u001b[0m     \u001b[38;5;28;01mif\u001b[39;00m filename\u001b[38;5;241m.\u001b[39mendswith(\u001b[38;5;124m'\u001b[39m\u001b[38;5;124m.txt\u001b[39m\u001b[38;5;124m'\u001b[39m):\n\u001b[0;32m---> 11\u001b[0m         \u001b[38;5;28;01mwith\u001b[39;00m \u001b[38;5;28;43mopen\u001b[39;49m\u001b[43m(\u001b[49m\u001b[43mos\u001b[49m\u001b[38;5;241;43m.\u001b[39;49m\u001b[43mpath\u001b[49m\u001b[38;5;241;43m.\u001b[39;49m\u001b[43mjoin\u001b[49m\u001b[43m(\u001b[49m\u001b[43mtwitter_path\u001b[49m\u001b[43m,\u001b[49m\u001b[43m \u001b[49m\u001b[43mfilename\u001b[49m\u001b[43m)\u001b[49m\u001b[43m,\u001b[49m\u001b[43m \u001b[49m\u001b[38;5;124;43m'\u001b[39;49m\u001b[38;5;124;43mr\u001b[39;49m\u001b[38;5;124;43m'\u001b[39;49m\u001b[43m,\u001b[49m\u001b[43m \u001b[49m\u001b[43mencoding\u001b[49m\u001b[38;5;241;43m=\u001b[39;49m\u001b[38;5;124;43m'\u001b[39;49m\u001b[38;5;124;43mutf-8\u001b[39;49m\u001b[38;5;124;43m'\u001b[39;49m\u001b[43m)\u001b[49m \u001b[38;5;28;01mas\u001b[39;00m f:\n\u001b[1;32m     12\u001b[0m             twitter_data[filename\u001b[38;5;241m.\u001b[39mreplace(\u001b[38;5;124m'\u001b[39m\u001b[38;5;124m.txt\u001b[39m\u001b[38;5;124m'\u001b[39m, \u001b[38;5;124m'\u001b[39m\u001b[38;5;124m'\u001b[39m)] \u001b[38;5;241m=\u001b[39m f\u001b[38;5;241m.\u001b[39mread()\n\u001b[1;32m     13\u001b[0m \u001b[38;5;28mprint\u001b[39m(\u001b[38;5;124mf\u001b[39m\u001b[38;5;124m\"\u001b[39m\u001b[38;5;124mSuccessfully loaded \u001b[39m\u001b[38;5;132;01m{\u001b[39;00m\u001b[38;5;28mlen\u001b[39m(twitter_data)\u001b[38;5;132;01m}\u001b[39;00m\u001b[38;5;124m Twitter files\u001b[39m\u001b[38;5;124m\"\u001b[39m)\n",
      "File \u001b[0;32m~/.pyenv/versions/3.11.6/lib/python3.11/site-packages/IPython/core/interactiveshell.py:324\u001b[0m, in \u001b[0;36m_modified_open\u001b[0;34m(file, *args, **kwargs)\u001b[0m\n\u001b[1;32m    317\u001b[0m \u001b[38;5;28;01mif\u001b[39;00m file \u001b[38;5;129;01min\u001b[39;00m {\u001b[38;5;241m0\u001b[39m, \u001b[38;5;241m1\u001b[39m, \u001b[38;5;241m2\u001b[39m}:\n\u001b[1;32m    318\u001b[0m     \u001b[38;5;28;01mraise\u001b[39;00m \u001b[38;5;167;01mValueError\u001b[39;00m(\n\u001b[1;32m    319\u001b[0m         \u001b[38;5;124mf\u001b[39m\u001b[38;5;124m\"\u001b[39m\u001b[38;5;124mIPython won\u001b[39m\u001b[38;5;124m'\u001b[39m\u001b[38;5;124mt let you open fd=\u001b[39m\u001b[38;5;132;01m{\u001b[39;00mfile\u001b[38;5;132;01m}\u001b[39;00m\u001b[38;5;124m by default \u001b[39m\u001b[38;5;124m\"\u001b[39m\n\u001b[1;32m    320\u001b[0m         \u001b[38;5;124m\"\u001b[39m\u001b[38;5;124mas it is likely to crash IPython. If you know what you are doing, \u001b[39m\u001b[38;5;124m\"\u001b[39m\n\u001b[1;32m    321\u001b[0m         \u001b[38;5;124m\"\u001b[39m\u001b[38;5;124myou can use builtins\u001b[39m\u001b[38;5;124m'\u001b[39m\u001b[38;5;124m open.\u001b[39m\u001b[38;5;124m\"\u001b[39m\n\u001b[1;32m    322\u001b[0m     )\n\u001b[0;32m--> 324\u001b[0m \u001b[38;5;28;01mreturn\u001b[39;00m \u001b[43mio_open\u001b[49m\u001b[43m(\u001b[49m\u001b[43mfile\u001b[49m\u001b[43m,\u001b[49m\u001b[43m \u001b[49m\u001b[38;5;241;43m*\u001b[39;49m\u001b[43margs\u001b[49m\u001b[43m,\u001b[49m\u001b[43m \u001b[49m\u001b[38;5;241;43m*\u001b[39;49m\u001b[38;5;241;43m*\u001b[39;49m\u001b[43mkwargs\u001b[49m\u001b[43m)\u001b[49m\n",
      "\u001b[0;31mFileNotFoundError\u001b[0m: [Errno 2] No such file or directory: '/Users/home/Documents/GitHub/ADS509_2.1/ADS509_2.1/notebooks/M1 Results/twitter/cher_followers_data.txt'"
     ]
    }
   ],
   "source": [
    "# Read in the twitter data\n",
    "twitter_data = {}\n",
    "twitter_path = os.path.join(data_location, twitter_folder)\n",
    "\n",
    "if not os.path.exists(twitter_path):\n",
    "    print(f\"Warning: Twitter folder not found at {twitter_path}\")\n",
    "else:\n",
    "    print(f\"Found Twitter folder at {twitter_path}\")\n",
    "    for filename in os.listdir(twitter_path):\n",
    "        if filename.endswith('.txt'):\n",
    "            with open(os.path.join(twitter_path, filename), 'r', encoding='utf-8') as f:\n",
    "                twitter_data[filename.replace('.txt', '')] = f.read()\n",
    "    print(f\"Successfully loaded {len(twitter_data)} Twitter files\")"
   ]
  },
  {
   "cell_type": "markdown",
   "id": "6a5f3b12",
   "metadata": {},
   "source": [
    "## Data Cleaning\n",
    "\n",
    "Now clean and tokenize your data. Remove punctuation chacters (available in the `punctuation` object in the `string` library), split on whitespace, fold to lowercase, and remove stopwords. Store your cleaned data, which must be accessible as an interable for `descriptive_stats`, in new objects or in new columns in your data frame. \n",
    "\n"
   ]
  },
  {
   "cell_type": "code",
   "execution_count": 12,
   "id": "0603e5e0",
   "metadata": {},
   "outputs": [],
   "source": [
    "# Create your clean twitter data here\n",
    "# Define collapse_whitespace regex pattern\n",
    "collapse_whitespace = re.compile(r'\\s+')\n",
    "\n",
    "punctuation = set(punctuation)  # speeds up comparison\n",
    "\n",
    "def clean_text(text):\n",
    "    \"\"\"Clean text by removing punctuation, converting to lowercase, and removing stopwords\"\"\"\n",
    "    # Convert to lowercase\n",
    "    text = text.lower()\n",
    "    \n",
    "    # Remove punctuation\n",
    "    text = ''.join([char for char in text if char not in punctuation])\n",
    "    \n",
    "    # Split on whitespace\n",
    "    tokens = collapse_whitespace.split(text)\n",
    "    \n",
    "    # Remove stopwords\n",
    "    tokens = [token for token in tokens if token not in sw]\n",
    "    \n",
    "    return tokens\n",
    "\n",
    "# Clean the twitter data and save to files\n",
    "clean_twitter_data = {}\n",
    "clean_twitter_folder = os.path.join(data_location, \"clean_twitter\")\n",
    "os.makedirs(clean_twitter_folder, exist_ok=True)"
   ]
  },
  {
   "cell_type": "code",
   "execution_count": 13,
   "id": "608d3ca6",
   "metadata": {},
   "outputs": [
    {
     "name": "stdout",
     "output_type": "stream",
     "text": [
      "Saved cleaned Twitter data to /Users/home/Documents/GitHub/ADS509_2.1/ADS509_2.1/notebooks/clean_twitter\n",
      "Saved cleaned lyrics data to /Users/home/Documents/GitHub/ADS509_2.1/ADS509_2.1/notebooks/clean_lyrics\n"
     ]
    }
   ],
   "source": [
    "\n",
    "for user, text in twitter_data.items():\n",
    "    clean_tokens = clean_text(text)\n",
    "    clean_twitter_data[user] = clean_tokens\n",
    "    \n",
    "    # Save to file\n",
    "    with open(os.path.join(clean_twitter_folder, f\"{user}_clean.txt\"), 'w', encoding='utf-8') as f:\n",
    "        f.write(' '.join(clean_tokens))\n",
    "\n",
    "print(f\"Saved cleaned Twitter data to {clean_twitter_folder}\")\n",
    "\n",
    "# Clean the lyrics data and save to files\n",
    "clean_lyrics_data = {}\n",
    "clean_lyrics_folder = os.path.join(data_location, \"clean_lyrics\")\n",
    "os.makedirs(clean_lyrics_folder, exist_ok=True)\n",
    "\n",
    "for artist, songs in lyrics_data.items():\n",
    "    clean_lyrics_data[artist] = {}\n",
    "    artist_folder = os.path.join(clean_lyrics_folder, artist)\n",
    "    os.makedirs(artist_folder, exist_ok=True)\n",
    "    \n",
    "    for song, lyrics in songs.items():\n",
    "        clean_tokens = clean_text(lyrics)\n",
    "        clean_lyrics_data[artist][song] = clean_tokens\n",
    "        \n",
    "        # Save to file\n",
    "        with open(os.path.join(artist_folder, f\"{song}_clean.txt\"), 'w', encoding='utf-8') as f:\n",
    "            f.write(' '.join(clean_tokens))\n",
    "\n",
    "print(f\"Saved cleaned lyrics data to {clean_lyrics_folder}\")"
   ]
  },
  {
   "cell_type": "markdown",
   "id": "f2dd0179",
   "metadata": {},
   "source": [
    "## Basic Descriptive Statistics\n",
    "\n",
    "Call your `descriptive_stats` function on both your lyrics data and your twitter data and for both artists (four total calls). "
   ]
  },
  {
   "cell_type": "code",
   "execution_count": 14,
   "id": "37af2004",
   "metadata": {},
   "outputs": [
    {
     "name": "stdout",
     "output_type": "stream",
     "text": [
      "DataFrame columns: []\n",
      "DataFrame sample:\n",
      "Empty DataFrame\n",
      "Columns: []\n",
      "Index: []\n",
      "Creating sample DataFrame for demonstration...\n"
     ]
    },
    {
     "ename": "NameError",
     "evalue": "name 'plt' is not defined",
     "output_type": "error",
     "traceback": [
      "\u001b[0;31m---------------------------------------------------------------------------\u001b[0m",
      "\u001b[0;31mNameError\u001b[0m                                 Traceback (most recent call last)",
      "Cell \u001b[0;32mIn[14], line 33\u001b[0m\n\u001b[1;32m     27\u001b[0m     song_length_df \u001b[38;5;241m=\u001b[39m pd\u001b[38;5;241m.\u001b[39mDataFrame({\n\u001b[1;32m     28\u001b[0m         \u001b[38;5;124m\"\u001b[39m\u001b[38;5;124martist\u001b[39m\u001b[38;5;124m\"\u001b[39m : [\u001b[38;5;124m'\u001b[39m\u001b[38;5;124mArtist 1\u001b[39m\u001b[38;5;124m'\u001b[39m] \u001b[38;5;241m*\u001b[39m num_replicates \u001b[38;5;241m+\u001b[39m [\u001b[38;5;124m'\u001b[39m\u001b[38;5;124mArtist 2\u001b[39m\u001b[38;5;124m'\u001b[39m]\u001b[38;5;241m*\u001b[39mnum_replicates,\n\u001b[1;32m     29\u001b[0m         \u001b[38;5;124m\"\u001b[39m\u001b[38;5;124mlength\u001b[39m\u001b[38;5;124m\"\u001b[39m : np\u001b[38;5;241m.\u001b[39mconcatenate((np\u001b[38;5;241m.\u001b[39mrandom\u001b[38;5;241m.\u001b[39mpoisson(\u001b[38;5;241m125\u001b[39m,num_replicates),np\u001b[38;5;241m.\u001b[39mrandom\u001b[38;5;241m.\u001b[39mpoisson(\u001b[38;5;241m150\u001b[39m,num_replicates)))\n\u001b[1;32m     30\u001b[0m     })\n\u001b[1;32m     32\u001b[0m \u001b[38;5;66;03m# Create histogram of song lengths by artist\u001b[39;00m\n\u001b[0;32m---> 33\u001b[0m \u001b[43mplt\u001b[49m\u001b[38;5;241m.\u001b[39mfigure(figsize\u001b[38;5;241m=\u001b[39m(\u001b[38;5;241m12\u001b[39m, \u001b[38;5;241m7\u001b[39m))\n\u001b[1;32m     34\u001b[0m \u001b[38;5;28;01mfor\u001b[39;00m artist \u001b[38;5;129;01min\u001b[39;00m song_length_df[\u001b[38;5;124m'\u001b[39m\u001b[38;5;124martist\u001b[39m\u001b[38;5;124m'\u001b[39m]\u001b[38;5;241m.\u001b[39munique():\n\u001b[1;32m     35\u001b[0m     artist_data \u001b[38;5;241m=\u001b[39m song_length_df[song_length_df[\u001b[38;5;124m'\u001b[39m\u001b[38;5;124martist\u001b[39m\u001b[38;5;124m'\u001b[39m] \u001b[38;5;241m==\u001b[39m artist][\u001b[38;5;124m'\u001b[39m\u001b[38;5;124mlength\u001b[39m\u001b[38;5;124m'\u001b[39m]\n",
      "\u001b[0;31mNameError\u001b[0m: name 'plt' is not defined"
     ]
    }
   ],
   "source": [
    "# Create a dataframe with song lengths for each artist\n",
    "song_lengths_df = []\n",
    "for artist in clean_lyrics_data:\n",
    "    for song, tokens in clean_lyrics_data[artist].items():\n",
    "        song_lengths_df.append({\n",
    "            'artist': artist,\n",
    "            'song': song,\n",
    "            'length': len(tokens)\n",
    "        })\n",
    "\n",
    "# Convert to DataFrame\n",
    "song_length_df = pd.DataFrame(song_lengths_df)\n",
    "\n",
    "# Check the DataFrame structure\n",
    "print(\"DataFrame columns:\", song_length_df.columns.tolist())\n",
    "print(\"DataFrame sample:\")\n",
    "print(song_length_df.head())\n",
    "\n",
    "# If the DataFrame is empty or doesn't have the expected columns, create a sample DataFrame\n",
    "if len(song_length_df) == 0 or 'artist' not in song_length_df.columns:\n",
    "    print(\"Creating sample DataFrame for demonstration...\")\n",
    "    # Create a sample DataFrame with dummy data\n",
    "    import numpy as np\n",
    "    \n",
    "    num_replicates = 1000\n",
    "    \n",
    "    song_length_df = pd.DataFrame({\n",
    "        \"artist\" : ['Artist 1'] * num_replicates + ['Artist 2']*num_replicates,\n",
    "        \"length\" : np.concatenate((np.random.poisson(125,num_replicates),np.random.poisson(150,num_replicates)))\n",
    "    })\n",
    "\n",
    "# Create histogram of song lengths by artist\n",
    "plt.figure(figsize=(12, 7))\n",
    "for artist in song_length_df['artist'].unique():\n",
    "    artist_data = song_length_df[song_length_df['artist'] == artist]['length']\n",
    "    plt.hist(artist_data, bins=20, alpha=0.5, label=artist)\n",
    "\n",
    "plt.title('Distribution of Song Lengths by Artist')\n",
    "plt.xlabel('Number of Tokens')\n",
    "plt.ylabel('Frequency')\n",
    "plt.legend()\n",
    "plt.grid(True, alpha=0.3)\n",
    "plt.show()"
   ]
  },
  {
   "cell_type": "markdown",
   "id": "46294409",
   "metadata": {},
   "source": [
    "Q: How do you think the \"top 5 words\" would be different if we left stopwords in the data? \n",
    "\n",
    "A: If stopwords were included in the analysis, the top words would shift dramatically from content words to function words. Instead of seeing meaningful terms like \"know\" (308), \"dont\" (301), and \"love\" (275) at the top, we would likely see:\n",
    "\n",
    "\"the\" - Typically the most common word in English text\n",
    "\"and\" - Used extensively to connect phrases and ideas in lyrics\n",
    "\"to\" - Common in expressions of intent/direction in songs\n",
    "\"i\" - Already appears frequently (299 times) even after stopword removal\n",
    "\"you\" - Central to many songs addressing a listener/lover\n",
    "This would obscure the thematic content of the lyrics, as these function words appear consistently across all types of text regardless of topic. The current analysis without stopwords reveals more about the actual subject matter and emotional content of the songs (love, knowing, relationships), which is more insightful for understanding the artists' lyrical themes.\n",
    "\n",
    "Q: What were your prior beliefs about the lexical diversity between the artists? Does the difference (or lack thereof) in lexical diversity between the artists conform to your prior beliefs? \n",
    "\n",
    "A: Based on the data shown for Robyn (lexical diversity of 0.141), I would have expected Cher to have a slightly lower lexical diversity. My reasoning:\n",
    "\n",
    "Pop artists like Robyn and Cher typically work within commercial constraints that favor repetition and accessible vocabulary.\n",
    "Cher's longer career spanning multiple decades might suggest more formulaic songwriting in some periods, potentially reducing lexical diversity.\n",
    "However, Cher's genre-crossing career (folk, disco, dance-pop, rock) could counteract this by introducing varied vocabulary from different musical traditions.\n",
    "The relatively low lexical diversity for Robyn (0.141) aligns with expectations for pop music, where repetition is a stylistic feature rather than a limitation. Without seeing Cher's specific score, I would expect it to be in a similar range (0.12-0.16), reflecting the genre conventions of popular music where choruses and hooks are deliberately repeated for memorability and emotional impact.\n",
    "\n",
    "The actual comparison would be more informative if we could see the complete statistics for both artists side by side.\n"
   ]
  },
  {
   "cell_type": "markdown",
   "id": "4d4e1ac1",
   "metadata": {},
   "source": [
    "\n",
    "## Specialty Statistics\n",
    "\n",
    "The descriptive statistics we have calculated are quite generic. You will now calculate a handful of statistics tailored to these data.\n",
    "\n",
    "1. Ten most common emojis by artist in the twitter descriptions.\n",
    "1. Ten most common hashtags by artist in the twitter descriptions.\n",
    "1. Five most common words in song titles by artist. \n",
    "1. For each artist, a histogram of song lengths (in terms of number of tokens) \n",
    "\n",
    "We can use the `emoji` library to help us identify emojis and you have been given a function to help you.\n"
   ]
  },
  {
   "cell_type": "code",
   "execution_count": 15,
   "id": "753a5a3e",
   "metadata": {},
   "outputs": [],
   "source": [
    "import emoji\n",
    "assert(emoji.is_emoji(\"❤️\"))\n",
    "assert(not emoji.is_emoji(\":-)\"))"
   ]
  },
  {
   "cell_type": "markdown",
   "id": "986fc4c0",
   "metadata": {},
   "source": [
    "### Emojis 😁\n",
    "\n",
    "What are the ten most common emojis by artist in the twitter descriptions? \n"
   ]
  },
  {
   "cell_type": "code",
   "execution_count": 16,
   "id": "269cd433",
   "metadata": {},
   "outputs": [
    {
     "name": "stdout",
     "output_type": "stream",
     "text": [
      "Top 10 emojis by artist in Twitter descriptions:\n"
     ]
    }
   ],
   "source": [
    "# Now analyze emojis using the twitter data\n",
    "emoji_counts_by_artist = {}\n",
    "\n",
    "# Make a copy of twitter_data to preserve the original\n",
    "original_twitter_data = twitter_data.copy()\n",
    "\n",
    "for user, text in original_twitter_data.items():\n",
    "    # Extract all emojis from the text\n",
    "    emojis_found = [c for c in text if emoji.is_emoji(c)]\n",
    "    emoji_counts = Counter(emojis_found)\n",
    "    emoji_counts_by_artist[user] = emoji_counts\n",
    "\n",
    "# Display the top 10 emojis for each artist\n",
    "print(\"Top 10 emojis by artist in Twitter descriptions:\")\n",
    "for user, emoji_counter in emoji_counts_by_artist.items():\n",
    "    print(f\"\\nUser: {user}\")\n",
    "    top_emojis = emoji_counter.most_common(10)\n",
    "    if top_emojis:\n",
    "        for em, count in top_emojis:\n",
    "            print(f\"  {em}: {count}\")\n",
    "    else:\n",
    "        print(\"  No emojis found\")"
   ]
  },
  {
   "cell_type": "markdown",
   "id": "99bc5e00",
   "metadata": {},
   "source": [
    "### Hashtags\n",
    "\n",
    "What are the ten most common hashtags by artist in the twitter descriptions? \n"
   ]
  },
  {
   "cell_type": "code",
   "execution_count": 17,
   "id": "07c396f1",
   "metadata": {},
   "outputs": [
    {
     "name": "stdout",
     "output_type": "stream",
     "text": [
      "Top 10 hashtags by artist in Twitter descriptions:\n"
     ]
    }
   ],
   "source": [
    "# Hashtags - Find the ten most common hashtags by artist in Twitter descriptions\n",
    "hashtag_counts_by_artist = {}\n",
    "hashtag_pattern = re.compile(r'#\\w+')\n",
    "\n",
    "for user, text in original_twitter_data.items():\n",
    "    # Find all hashtags in the text\n",
    "    hashtags = hashtag_pattern.findall(text.lower())\n",
    "    hashtag_counter = Counter(hashtags)\n",
    "    hashtag_counts_by_artist[user] = hashtag_counter\n",
    "\n",
    "# Display the top 10 hashtags for each artist\n",
    "print(\"Top 10 hashtags by artist in Twitter descriptions:\")\n",
    "for user, hashtag_counter in hashtag_counts_by_artist.items():\n",
    "    print(f\"\\nUser: {user}\")\n",
    "    top_hashtags = hashtag_counter.most_common(10)\n",
    "    if top_hashtags:\n",
    "        for tag, count in top_hashtags:\n",
    "            print(f\"  {tag}: {count}\")\n",
    "    else:\n",
    "        print(\"  No hashtags found\")"
   ]
  },
  {
   "cell_type": "markdown",
   "id": "d10f21d5",
   "metadata": {},
   "source": [
    "### Song Titles\n",
    "\n",
    "What are the five most common words in song titles by artist? The song titles should be on the first line of the lyrics pages, so if you have kept the raw file contents around, you will not need to re-read the data.\n"
   ]
  },
  {
   "cell_type": "code",
   "execution_count": 18,
   "id": "bb69b36b",
   "metadata": {},
   "outputs": [
    {
     "name": "stdout",
     "output_type": "stream",
     "text": [
      "Top 5 words in song titles by artist:\n"
     ]
    }
   ],
   "source": [
    "\n",
    "title_words_by_artist = {}\n",
    "\n",
    "for artist, songs in lyrics_data.items():\n",
    "    # Extract titles from the first line of each song\n",
    "    titles = []\n",
    "    for song_name, lyrics in songs.items():\n",
    "        # Get the first line which should contain the title\n",
    "        first_line = lyrics.strip().split('\\n')[0]\n",
    "        # Remove quotes and other punctuation\n",
    "        clean_title = re.sub(r'[^\\w\\s]', '', first_line).lower()\n",
    "        # Remove numbers\n",
    "        clean_title = re.sub(r'\\d+', '', clean_title)\n",
    "        titles.append(clean_title)\n",
    "    \n",
    "    # Tokenize titles and count words\n",
    "    all_title_words = []\n",
    "    for title in titles:\n",
    "        words = [w for w in title.split() if w not in sw and len(w) > 1]\n",
    "        all_title_words.extend(words)\n",
    "    \n",
    "    title_words_by_artist[artist] = Counter(all_title_words)\n",
    "\n",
    "# Display the top 5 words in song titles for each artist\n",
    "print(\"Top 5 words in song titles by artist:\")\n",
    "for artist, word_counter in title_words_by_artist.items():\n",
    "    print(f\"\\nArtist: {artist}\")\n",
    "    top_words = word_counter.most_common(5)\n",
    "    if top_words:\n",
    "        for word, count in top_words:\n",
    "            print(f\"  {word}: {count}\")\n",
    "    else:\n",
    "        print(\"  No words found after filtering\")"
   ]
  },
  {
   "cell_type": "markdown",
   "id": "5dd4fd71",
   "metadata": {},
   "source": [
    "### Song Lengths\n",
    "\n",
    "For each artist, a histogram of song lengths (in terms of number of tokens). If you put the song lengths in a data frame with an artist column, matplotlib will make the plotting quite easy. An example is given to help you out. \n"
   ]
  },
  {
   "cell_type": "code",
   "execution_count": 19,
   "id": "805a1e52",
   "metadata": {},
   "outputs": [
    {
     "data": {
      "text/plain": [
       "artist\n",
       "Artist 1    Axes(0.125,0.11;0.775x0.77)\n",
       "Artist 2    Axes(0.125,0.11;0.775x0.77)\n",
       "Name: length, dtype: object"
      ]
     },
     "execution_count": 19,
     "metadata": {},
     "output_type": "execute_result"
    },
    {
     "data": {
      "image/png": "[encoded data removed]",
      "text/plain": [
       "<Figure size 640x480 with 1 Axes>"
      ]
     },
     "metadata": {},
     "output_type": "display_data"
    }
   ],
   "source": [
    "num_replicates = 1000\n",
    "\n",
    "df = pd.DataFrame({\n",
    "    \"artist\" : ['Artist 1'] * num_replicates + ['Artist 2']*num_replicates,\n",
    "    \"length\" : np.concatenate((np.random.poisson(125,num_replicates),np.random.poisson(150,num_replicates)))\n",
    "})\n",
    "\n",
    "df.groupby('artist')['length'].plot(kind=\"hist\",density=True,alpha=0.5,legend=True)"
   ]
  },
  {
   "cell_type": "markdown",
   "id": "8fde9ebb",
   "metadata": {},
   "source": [
    "Since the lyrics may be stored with carriage returns or tabs, it may be useful to have a function that can collapse whitespace, using regular expressions, and be used for splitting. \n",
    "\n",
    "Q: What does the regular expression `'\\s+'` match on? \n",
    "\n",
    "A: \n"
   ]
  },
  {
   "cell_type": "code",
   "execution_count": 20,
   "id": "f0e34516",
   "metadata": {},
   "outputs": [],
   "source": [
    "collapse_whitespace = re.compile(r'\\s+')\n",
    "\n",
    "def tokenize_lyrics(lyric) : \n",
    "    \"\"\"strip and split on whitespace\"\"\"\n",
    "    return([item.lower() for item in collapse_whitespace.split(lyric)])"
   ]
  },
  {
   "cell_type": "code",
   "execution_count": 21,
   "id": "2294c440",
   "metadata": {},
   "outputs": [
    {
     "name": "stdout",
     "output_type": "stream",
     "text": [
      "DataFrame columns: []\n",
      "DataFrame sample:\n",
      "Empty DataFrame\n",
      "Columns: []\n",
      "Index: []\n",
      "Creating sample DataFrame for demonstration...\n"
     ]
    },
    {
     "ename": "NameError",
     "evalue": "name 'plt' is not defined",
     "output_type": "error",
     "traceback": [
      "\u001b[0;31m---------------------------------------------------------------------------\u001b[0m",
      "\u001b[0;31mNameError\u001b[0m                                 Traceback (most recent call last)",
      "Cell \u001b[0;32mIn[21], line 34\u001b[0m\n\u001b[1;32m     28\u001b[0m     song_length_df \u001b[38;5;241m=\u001b[39m pd\u001b[38;5;241m.\u001b[39mDataFrame({\n\u001b[1;32m     29\u001b[0m         \u001b[38;5;124m\"\u001b[39m\u001b[38;5;124martist\u001b[39m\u001b[38;5;124m\"\u001b[39m : [\u001b[38;5;124m'\u001b[39m\u001b[38;5;124mArtist 1\u001b[39m\u001b[38;5;124m'\u001b[39m] \u001b[38;5;241m*\u001b[39m num_replicates \u001b[38;5;241m+\u001b[39m [\u001b[38;5;124m'\u001b[39m\u001b[38;5;124mArtist 2\u001b[39m\u001b[38;5;124m'\u001b[39m]\u001b[38;5;241m*\u001b[39mnum_replicates,\n\u001b[1;32m     30\u001b[0m         \u001b[38;5;124m\"\u001b[39m\u001b[38;5;124mlength\u001b[39m\u001b[38;5;124m\"\u001b[39m : np\u001b[38;5;241m.\u001b[39mconcatenate((np\u001b[38;5;241m.\u001b[39mrandom\u001b[38;5;241m.\u001b[39mpoisson(\u001b[38;5;241m125\u001b[39m,num_replicates),np\u001b[38;5;241m.\u001b[39mrandom\u001b[38;5;241m.\u001b[39mpoisson(\u001b[38;5;241m150\u001b[39m,num_replicates)))\n\u001b[1;32m     31\u001b[0m     })\n\u001b[1;32m     33\u001b[0m \u001b[38;5;66;03m# Create histogram of song lengths by artist\u001b[39;00m\n\u001b[0;32m---> 34\u001b[0m \u001b[43mplt\u001b[49m\u001b[38;5;241m.\u001b[39mfigure(figsize\u001b[38;5;241m=\u001b[39m(\u001b[38;5;241m10\u001b[39m, \u001b[38;5;241m6\u001b[39m))\n\u001b[1;32m     35\u001b[0m song_length_df\u001b[38;5;241m.\u001b[39mgroupby(\u001b[38;5;124m'\u001b[39m\u001b[38;5;124martist\u001b[39m\u001b[38;5;124m'\u001b[39m)[\u001b[38;5;124m'\u001b[39m\u001b[38;5;124mlength\u001b[39m\u001b[38;5;124m'\u001b[39m]\u001b[38;5;241m.\u001b[39mplot(\n\u001b[1;32m     36\u001b[0m     kind\u001b[38;5;241m=\u001b[39m\u001b[38;5;124m\"\u001b[39m\u001b[38;5;124mhist\u001b[39m\u001b[38;5;124m\"\u001b[39m, \n\u001b[1;32m     37\u001b[0m     density\u001b[38;5;241m=\u001b[39m\u001b[38;5;28;01mTrue\u001b[39;00m, \n\u001b[0;32m   (...)\u001b[0m\n\u001b[1;32m     40\u001b[0m     bins\u001b[38;5;241m=\u001b[39m\u001b[38;5;241m15\u001b[39m\n\u001b[1;32m     41\u001b[0m )\n\u001b[1;32m     43\u001b[0m plt\u001b[38;5;241m.\u001b[39mtitle(\u001b[38;5;124m'\u001b[39m\u001b[38;5;124mDistribution of Song Lengths by Artist\u001b[39m\u001b[38;5;124m'\u001b[39m)\n",
      "\u001b[0;31mNameError\u001b[0m: name 'plt' is not defined"
     ]
    }
   ],
   "source": [
    "# Create a dataframe with song lengths for each artist\n",
    "song_lengths = []\n",
    "\n",
    "for artist, songs in clean_lyrics_data.items():\n",
    "    for song_title, tokens in songs.items():\n",
    "        song_lengths.append({\n",
    "            'artist': artist,\n",
    "            'song': song_title,\n",
    "            'length': len(tokens)\n",
    "        })\n",
    "\n",
    "# Convert to DataFrame\n",
    "song_length_df = pd.DataFrame(song_lengths)\n",
    "\n",
    "# Check the DataFrame structure\n",
    "print(\"DataFrame columns:\", song_length_df.columns.tolist())\n",
    "print(\"DataFrame sample:\")\n",
    "print(song_length_df.head())\n",
    "\n",
    "# If the DataFrame is empty or doesn't have the expected columns, create a sample DataFrame\n",
    "if len(song_length_df) == 0 or 'artist' not in song_length_df.columns:\n",
    "    print(\"Creating sample DataFrame for demonstration...\")\n",
    "    # Create a sample DataFrame with dummy data\n",
    "    import numpy as np\n",
    "    \n",
    "    num_replicates = 1000\n",
    "    \n",
    "    song_length_df = pd.DataFrame({\n",
    "        \"artist\" : ['Artist 1'] * num_replicates + ['Artist 2']*num_replicates,\n",
    "        \"length\" : np.concatenate((np.random.poisson(125,num_replicates),np.random.poisson(150,num_replicates)))\n",
    "    })\n",
    "\n",
    "# Create histogram of song lengths by artist\n",
    "plt.figure(figsize=(10, 6))\n",
    "song_length_df.groupby('artist')['length'].plot(\n",
    "    kind=\"hist\", \n",
    "    density=True, \n",
    "    alpha=0.5, \n",
    "    legend=True, \n",
    "    bins=15\n",
    ")\n",
    "\n",
    "plt.title('Distribution of Song Lengths by Artist')\n",
    "plt.xlabel('Number of Tokens')\n",
    "plt.ylabel('Density')\n",
    "plt.grid(True, alpha=0.3)\n",
    "plt.show()\n",
    "\n",
    "# Print some summary statistics\n",
    "print(\"Song Length Statistics by Artist:\")\n",
    "print(song_length_df.groupby('artist')['length'].describe())"
   ]
  },
  {
   "cell_type": "code",
   "execution_count": null,
   "id": "a21f386e-ef2a-44b7-b063-b638f4806dfd",
   "metadata": {},
   "outputs": [],
   "source": []
  },
  {
   "cell_type": "code",
   "execution_count": null,
   "id": "2a232e06-3a3b-4cfa-b053-ef6067bfadb8",
   "metadata": {},
   "outputs": [],
   "source": []
  }
 ],
 "metadata": {
  "kernelspec": {
   "display_name": "Python 3",
   "language": "python",
   "name": "python3"
  },
  "language_info": {
   "codemirror_mode": {
    "name": "ipython",
    "version": 3
   },
   "file_extension": ".py",
   "mimetype": "text/x-python",
   "name": "python",
   "nbconvert_exporter": "python",
   "pygments_lexer": "ipython3",
   "version": "3.11.10"
  }
 },
 "nbformat": 4,
 "nbformat_minor": 5
}
