{
 "cells": [
  {
   "cell_type": "markdown",
   "id": "41ce2170",
   "metadata": {},
   "source": [
    "# ADS 509 Assignment 2.1: Tokenization, Normalization, Descriptive Statistics \n",
    "\n",
    "This notebook holds Assignment 2.1 for Module 2 in ADS 509, Applied Text Mining. Work through this notebook, writing code and answering questions where required. \n",
    "\n",
    "In the previous assignment you put together Twitter data and lyrics data on two artists. In this assignment we explore some of the textual features of those data sets. If, for some reason, you did not complete that previous assignment, data to use for this assignment can be found in the assignment materials section of Blackboard. \n",
    "\n",
    "This assignment asks you to write a short function to calculate some descriptive statistics on a piece of text. Then you are asked to find some interesting and unique statistics on your corpora. \n"
   ]
  },
  {
   "cell_type": "markdown",
   "id": "aae8e2e1",
   "metadata": {},
   "source": [
    "## General Assignment Instructions\n",
    "\n",
    "These instructions are included in every assignment, to remind you of the coding standards for the class. Feel free to delete this cell after reading it. \n",
    "\n",
    "One sign of mature code is conforming to a style guide. We recommend the [Google Python Style Guide](https://google.github.io/styleguide/pyguide.html). If you use a different style guide, please include a cell with a link. \n",
    "\n",
    "Your code should be relatively easy-to-read, sensibly commented, and clean. Writing code is a messy process, so please be sure to edit your final submission. Remove any cells that are not needed or parts of cells that contain unnecessary code. Remove inessential `import` statements and make sure that all such statements are moved into the designated cell. \n",
    "\n",
    "Make use of non-code cells for written commentary. These cells should be grammatical and clearly written. In some of these cells you will have questions to answer. The questions will be marked by a \"Q:\" and will have a corresponding \"A:\" spot for you. *Make sure to answer every question marked with a `Q:` for full credit.* \n"
   ]
  },
  {
   "cell_type": "code",
   "execution_count": 1,
   "id": "38409558",
   "metadata": {},
   "outputs": [
    {
     "name": "stderr",
     "output_type": "stream",
     "text": [
      "[nltk_data] Downloading package stopwords to /Users/home/nltk_data...\n",
      "[nltk_data]   Package stopwords is already up-to-date!\n"
     ]
    },
    {
     "data": {
      "text/plain": [
       "True"
      ]
     },
     "execution_count": 1,
     "metadata": {},
     "output_type": "execute_result"
    }
   ],
   "source": [
    "import nltk\n",
    "nltk.download('stopwords')"
   ]
  },
  {
   "cell_type": "code",
   "execution_count": 2,
   "id": "e2d096b7",
   "metadata": {},
   "outputs": [],
   "source": [
    "import os\n",
    "import re\n",
    "import emoji\n",
    "import pandas as pd\n",
    "import numpy as np\n",
    "\n",
    "from collections import Counter, defaultdict\n",
    "from nltk.corpus import stopwords\n",
    "from string import punctuation\n",
    "\n",
    "sw = stopwords.words(\"english\")"
   ]
  },
  {
   "cell_type": "code",
   "execution_count": 3,
   "id": "9a245ddf",
   "metadata": {},
   "outputs": [],
   "source": [
    "# Add any additional import statements you need here\n",
    "\n",
    "\n"
   ]
  },
  {
   "cell_type": "code",
   "execution_count": 4,
   "id": "923b5a86",
   "metadata": {},
   "outputs": [],
   "source": [
    "# Update the data location and folder paths\n",
    "data_location = \"/app\"  # Root directory inside the container\n",
    "twitter_folder = \"M1 Results/twitter\"\n",
    "lyrics_folder = \"M1 Results/lyrics\""
   ]
  },
  {
   "cell_type": "code",
   "execution_count": 5,
   "id": "06522af9",
   "metadata": {},
   "outputs": [],
   "source": [
    "def descriptive_stats(tokens, num_tokens = 5, verbose=True) :\n",
    "    \"\"\"\n",
    "        Given a list of tokens, print number of tokens, number of unique tokens, \n",
    "        number of characters, lexical diversity (https://en.wikipedia.org/wiki/Lexical_diversity), \n",
    "        and num_tokens most common tokens. Return a list with the number of tokens, number\n",
    "        of unique tokens, lexical diversity, and number of characters. \n",
    "    \"\"\"\n",
    "    # Calculate statistics\n",
    "    num_tokens = len(tokens)\n",
    "    num_unique_tokens = len(set(tokens))\n",
    "    lexical_diversity = num_unique_tokens / num_tokens if num_tokens > 0 else 0.0\n",
    "    num_characters = sum(len(token) for token in tokens)\n",
    "    \n",
    "    if verbose:        \n",
    "        print(f\"There are {num_tokens} tokens in the data.\")\n",
    "        print(f\"There are {num_unique_tokens} unique tokens in the data.\")\n",
    "        print(f\"There are {num_characters} characters in the data.\")\n",
    "        print(f\"The lexical diversity is {lexical_diversity:.3f} in the data.\")\n",
    "    \n",
    "        # print the five most common tokens\n",
    "        token_counts = Counter(tokens)\n",
    "        most_common = token_counts.most_common(num_tokens)\n",
    "        print(f\"The {num_tokens} most common tokens:\")\n",
    "        for token, count in most_common:\n",
    "            print(f\"  {token}: {count}\")\n",
    "    \n",
    "    return([num_tokens, num_unique_tokens,\n",
    "            lexical_diversity,\n",
    "            num_characters])"
   ]
  },
  {
   "cell_type": "code",
   "execution_count": 6,
   "id": "59dcf058",
   "metadata": {},
   "outputs": [
    {
     "name": "stdout",
     "output_type": "stream",
     "text": [
      "There are 13 tokens in the data.\n",
      "There are 9 unique tokens in the data.\n",
      "There are 55 characters in the data.\n",
      "The lexical diversity is 0.692 in the data.\n",
      "The 13 most common tokens:\n",
      "  text: 3\n",
      "  here: 2\n",
      "  example: 2\n",
      "  is: 1\n",
      "  some: 1\n",
      "  with: 1\n",
      "  other: 1\n",
      "  in: 1\n",
      "  this: 1\n"
     ]
    }
   ],
   "source": [
    "text = \"\"\"here is some example text with other example text here in this text\"\"\".split()\n",
    "assert(descriptive_stats(text, verbose=True)[0] == 13)\n",
    "assert(descriptive_stats(text, verbose=False)[1] == 9)\n",
    "assert(abs(descriptive_stats(text, verbose=False)[2] - 0.69) < 0.02)\n",
    "assert(descriptive_stats(text, verbose=False)[3] == 55)\n"
   ]
  },
  {
   "cell_type": "markdown",
   "id": "d2e7e1a2",
   "metadata": {},
   "source": [
    "Q: Why is it beneficial to use assertion statements in your code? \n",
    "\n",
    "A: Assertion statements are beneficial because they:\n",
    "\n",
    "Catch Bugs Early: They help find logical errors during development by immediately stopping the program when an unexpected condition occurs.\n",
    "Document Assumptions: They clearly state what a programmer assumes to be true at a certain point in the code.\n",
    "Simplify Debugging: When an assertion fails, it points directly to the problem's location and nature.\n",
    "Verify Internal State: They check if your code's internal conditions (like variable states or function outputs) are as expected.\n",
    "Can Be Disabled: Assertions are often disabled in production code, so they don't slow it down, making them ideal for development and testing.\n",
    "Essentially, assertions are a developer's tool to ensure code correctness and make debugging easier by checking for \"impossible\" situations. They are for finding programmer errors, not for handling regular runtime errors (like bad user input)."
   ]
  },
  {
   "cell_type": "markdown",
   "id": "9d3bf93e",
   "metadata": {},
   "source": [
    "## Data Input\n",
    "\n",
    "Now read in each of the corpora. For the lyrics data, it may be convenient to store the entire contents of the file to make it easier to inspect the titles individually, as you'll do in the last part of the assignment. In the solution, I stored the lyrics data in a dictionary with two dimensions of keys: artist and song. The value was the file contents. A data frame would work equally well. \n",
    "\n",
    "For the Twitter data, we only need the description field for this assignment. Feel free all the descriptions read it into a data structure. In the solution, I stored the descriptions as a dictionary of lists, with the key being the artist. \n",
    "\n",
    "\n"
   ]
  },
  {
   "cell_type": "code",
   "execution_count": 10,
   "id": "360934ff",
   "metadata": {},
   "outputs": [
    {
     "name": "stdout",
     "output_type": "stream",
     "text": [
      "Found zip file at /Users/home/Documents/GitHub/ADS509_2.1/ADS509_2.1/notebooks/M1 Assignment Data.zip\n",
      "Extracting zip file to /var/folders/q2/5yylt10156q8bq2drpk08r7w0000gn/T/tmpifsbgo1w...\n",
      "Extracted files: ['M1 Results', '__MACOSX']\n",
      "Error extracting zip file: [Errno 30] Read-only file system: '/app'\n",
      "Could not find or extract the zip file\n",
      "Warning: Lyrics folder not found at /app/M1 Results/lyrics\n",
      "Could not find lyrics folder in any expected location\n"
     ]
    }
   ],
   "source": [
    "import zipfile\n",
    "import tempfile\n",
    "import shutil\n",
    "\n",
    "# Try to find and extract the zip file if the data folders don't exist\n",
    "def extract_zip_if_needed():\n",
    "    # Possible locations of the zip file\n",
    "    zip_locations = [\n",
    "        \"/app/data/input/M1 Assignment Data.zip\",\n",
    "        \"/Users/home/Documents/GitHub/ADS509_2.1/ADS509_2.1/notebooks/M1 Assignment Data.zip\",\n",
    "        \"./M1 Assignment Data.zip\"\n",
    "    ]\n",
    "    \n",
    "    # Check if data already exists\n",
    "    if os.path.exists(\"/app/M1 Results/twitter\") or os.path.exists(\"/app/M1 Results/lyrics\"):\n",
    "        print(\"Data folders already exist, no need to extract zip\")\n",
    "        return True\n",
    "    \n",
    "    # Try to find and extract the zip file\n",
    "    for zip_path in zip_locations:\n",
    "        if os.path.exists(zip_path):\n",
    "            print(f\"Found zip file at {zip_path}\")\n",
    "            try:\n",
    "                # Create a temporary directory\n",
    "                temp_dir = tempfile.mkdtemp()\n",
    "                \n",
    "                # Extract the zip file\n",
    "                with zipfile.ZipFile(zip_path, 'r') as zip_ref:\n",
    "                    print(f\"Extracting zip file to {temp_dir}...\")\n",
    "                    zip_ref.extractall(temp_dir)\n",
    "                \n",
    "                # Move the extracted files to the expected location\n",
    "                extracted_files = os.listdir(temp_dir)\n",
    "                print(f\"Extracted files: {extracted_files}\")\n",
    "                \n",
    "                # Look for M1 Results folder\n",
    "                m1_results_path = None\n",
    "                for root, dirs, files in os.walk(temp_dir):\n",
    "                    if \"M1 Results\" in dirs:\n",
    "                        m1_results_path = os.path.join(root, \"M1 Results\")\n",
    "                        break\n",
    "                \n",
    "                if m1_results_path:\n",
    "                    # Create target directory if it doesn't exist\n",
    "                    os.makedirs(\"/app/M1 Results\", exist_ok=True)\n",
    "                    \n",
    "                    # Copy the contents\n",
    "                    for item in os.listdir(m1_results_path):\n",
    "                        s = os.path.join(m1_results_path, item)\n",
    "                        d = os.path.join(\"/app/M1 Results\", item)\n",
    "                        if os.path.isdir(s):\n",
    "                            shutil.copytree(s, d, dirs_exist_ok=True)\n",
    "                        else:\n",
    "                            shutil.copy2(s, d)\n",
    "                    \n",
    "                    print(\"Successfully extracted and moved M1 Results folder\")\n",
    "                    return True\n",
    "                else:\n",
    "                    print(\"Could not find M1 Results folder in the extracted zip\")\n",
    "            except Exception as e:\n",
    "                print(f\"Error extracting zip file: {str(e)}\")\n",
    "            finally:\n",
    "                # Clean up the temporary directory\n",
    "                shutil.rmtree(temp_dir)\n",
    "    \n",
    "    print(\"Could not find or extract the zip file\")\n",
    "    return False\n",
    "\n",
    "# Try to extract the zip file if needed\n",
    "extract_zip_if_needed()\n",
    "\n",
    "# Now proceed with the original code to read the data\n",
    "# Read in the lyrics data\n",
    "lyrics_data = {}\n",
    "lyrics_path = os.path.join(data_location, lyrics_folder)\n",
    "\n",
    "# Try alternative paths if the primary path doesn't exist\n",
    "if not os.path.exists(lyrics_path):\n",
    "    print(f\"Warning: Lyrics folder not found at {lyrics_path}\")\n",
    "    # Try alternative paths\n",
    "    alternative_paths = [\n",
    "        \"/app/M1 Results/lyrics\",\n",
    "        \"/app/data/extracted/M1 Assignment Data/M1 Results/lyrics\",\n",
    "        os.path.join(\"/Users/home/Documents/GitHub/ADS509_2.1\", lyrics_folder)\n",
    "    ]\n",
    "    \n",
    "    for alt_path in alternative_paths:\n",
    "        if os.path.exists(alt_path):\n",
    "            print(f\"Found alternative lyrics folder at {alt_path}\")\n",
    "            lyrics_path = alt_path\n",
    "            break\n",
    "    else:\n",
    "        print(\"Could not find lyrics folder in any expected location\")"
   ]
  },
  {
   "cell_type": "code",
   "execution_count": 8,
   "id": "d281db41",
   "metadata": {},
   "outputs": [
    {
     "name": "stdout",
     "output_type": "stream",
     "text": [
      "Warning: Twitter folder not found at /app/M1 Results/twitter\n"
     ]
    }
   ],
   "source": [
    "# Read in the twitter data\n",
    "twitter_data = {}\n",
    "twitter_path = os.path.join(data_location, twitter_folder)\n",
    "\n",
    "if not os.path.exists(twitter_path):\n",
    "    print(f\"Warning: Twitter folder not found at {twitter_path}\")\n",
    "else:\n",
    "    print(f\"Found Twitter folder at {twitter_path}\")\n",
    "    for filename in os.listdir(twitter_path):\n",
    "        if filename.endswith('.txt'):\n",
    "            with open(os.path.join(twitter_path, filename), 'r', encoding='utf-8') as f:\n",
    "                twitter_data[filename.replace('.txt', '')] = f.read()\n",
    "    print(f\"Successfully loaded {len(twitter_data)} Twitter files\")"
   ]
  },
  {
   "cell_type": "markdown",
   "id": "6a5f3b12",
   "metadata": {},
   "source": [
    "## Data Cleaning\n",
    "\n",
    "Now clean and tokenize your data. Remove punctuation chacters (available in the `punctuation` object in the `string` library), split on whitespace, fold to lowercase, and remove stopwords. Store your cleaned data, which must be accessible as an interable for `descriptive_stats`, in new objects or in new columns in your data frame. \n",
    "\n"
   ]
  },
  {
   "cell_type": "code",
   "execution_count": 11,
   "id": "0603e5e0",
   "metadata": {},
   "outputs": [],
   "source": [
    "# Create your clean twitter data here\n",
    "# Define collapse_whitespace regex pattern\n",
    "collapse_whitespace = re.compile(r'\\s+')\n",
    "\n",
    "punctuation = set(punctuation)  # speeds up comparison\n",
    "\n",
    "def clean_text(text):\n",
    "    \"\"\"Clean text by removing punctuation, converting to lowercase, and removing stopwords\"\"\"\n",
    "    # Convert to lowercase\n",
    "    text = text.lower()\n",
    "    \n",
    "    # Remove punctuation\n",
    "    text = ''.join([char for char in text if char not in punctuation])\n",
    "    \n",
    "    # Split on whitespace\n",
    "    tokens = collapse_whitespace.split(text)\n",
    "    \n",
    "    # Remove stopwords\n",
    "    tokens = [token for token in tokens if token not in sw]\n",
    "    \n",
    "    return tokens\n",
    "\n",
    "# Clean the twitter data and save to files\n",
    "clean_twitter_data = {}\n",
    "clean_twitter_folder = os.path.join(data_location, \"clean_twitter\")\n",
    "os.makedirs(clean_twitter_folder, exist_ok=True)"
   ]
  },
  {
   "cell_type": "code",
   "execution_count": 12,
   "id": "608d3ca6",
   "metadata": {},
   "outputs": [
    {
     "name": "stdout",
     "output_type": "stream",
     "text": [
      "Saved cleaned Twitter data to /Users/home/Documents/GitHub/ADS509_2.1/clean_twitter\n",
      "Saved cleaned lyrics data to /Users/home/Documents/GitHub/ADS509_2.1/clean_lyrics\n"
     ]
    }
   ],
   "source": [
    "\n",
    "for user, text in twitter_data.items():\n",
    "    clean_tokens = clean_text(text)\n",
    "    clean_twitter_data[user] = clean_tokens\n",
    "    \n",
    "    # Save to file\n",
    "    with open(os.path.join(clean_twitter_folder, f\"{user}_clean.txt\"), 'w', encoding='utf-8') as f:\n",
    "        f.write(' '.join(clean_tokens))\n",
    "\n",
    "print(f\"Saved cleaned Twitter data to {clean_twitter_folder}\")\n",
    "\n",
    "# Clean the lyrics data and save to files\n",
    "clean_lyrics_data = {}\n",
    "clean_lyrics_folder = os.path.join(data_location, \"clean_lyrics\")\n",
    "os.makedirs(clean_lyrics_folder, exist_ok=True)\n",
    "\n",
    "for artist, songs in lyrics_data.items():\n",
    "    clean_lyrics_data[artist] = {}\n",
    "    artist_folder = os.path.join(clean_lyrics_folder, artist)\n",
    "    os.makedirs(artist_folder, exist_ok=True)\n",
    "    \n",
    "    for song, lyrics in songs.items():\n",
    "        clean_tokens = clean_text(lyrics)\n",
    "        clean_lyrics_data[artist][song] = clean_tokens\n",
    "        \n",
    "        # Save to file\n",
    "        with open(os.path.join(artist_folder, f\"{song}_clean.txt\"), 'w', encoding='utf-8') as f:\n",
    "            f.write(' '.join(clean_tokens))\n",
    "\n",
    "print(f\"Saved cleaned lyrics data to {clean_lyrics_folder}\")"
   ]
  },
  {
   "cell_type": "markdown",
   "id": "f2dd0179",
   "metadata": {},
   "source": [
    "## Basic Descriptive Statistics\n",
    "\n",
    "Call your `descriptive_stats` function on both your lyrics data and your twitter data and for both artists (four total calls). "
   ]
  },
  {
   "cell_type": "code",
   "execution_count": 16,
   "id": "37af2004",
   "metadata": {},
   "outputs": [
    {
     "name": "stdout",
     "output_type": "stream",
     "text": [
      "Loaded cleaned lyrics data for 2 artists\n",
      "\n",
      "Lyrics Data Statistics:\n",
      "\n",
      "Artist: robyn\n",
      "There are 15227 tokens in the data.\n",
      "There are 2156 unique tokens in the data.\n",
      "There are 73787 characters in the data.\n",
      "The lexical diversity is 0.142 in the data.\n",
      "The 10 most common tokens:\n",
      "  know: 308\n",
      "  dont: 301\n",
      "  im: 299\n",
      "  love: 275\n",
      "  got: 251\n",
      "  like: 232\n",
      "  baby: 222\n",
      "  youre: 169\n",
      "  never: 155\n",
      "  dance: 150\n",
      "\n",
      "Artist: cher\n",
      "There are 35916 tokens in the data.\n",
      "There are 3703 unique tokens in the data.\n",
      "There are 172634 characters in the data.\n",
      "The lexical diversity is 0.103 in the data.\n",
      "The 10 most common tokens:\n",
      "  love: 1004\n",
      "  im: 513\n",
      "  know: 486\n",
      "  dont: 440\n",
      "  youre: 333\n",
      "  time: 319\n",
      "  baby: 319\n",
      "  see: 308\n",
      "  oh: 306\n",
      "  one: 282\n",
      "\n",
      "Creating histograms of song lengths...\n"
     ]
    },
    {
     "data": {
      "image/png": "[encoded data removed]",
      "text/plain": [
       "<Figure size 1000x600 with 1 Axes>"
      ]
     },
     "metadata": {},
     "output_type": "display_data"
    },
    {
     "name": "stdout",
     "output_type": "stream",
     "text": [
      "\n",
      "Song length statistics for robyn:\n",
      "  Average song length: 146.4 tokens\n",
      "  Median song length: 137.0 tokens\n",
      "  Shortest song: 10 tokens\n",
      "  Longest song: 351 tokens\n",
      "  Total songs: 104\n"
     ]
    },
    {
     "data": {
      "image/png": "[encoded data removed]",
      "text/plain": [
       "<Figure size 1000x600 with 1 Axes>"
      ]
     },
     "metadata": {},
     "output_type": "display_data"
    },
    {
     "name": "stdout",
     "output_type": "stream",
     "text": [
      "\n",
      "Song length statistics for cher:\n",
      "  Average song length: 113.7 tokens\n",
      "  Median song length: 110.0 tokens\n",
      "  Shortest song: 22 tokens\n",
      "  Longest song: 241 tokens\n",
      "  Total songs: 316\n",
      "\n",
      "Five most common words in song titles by artist:\n",
      "\n",
      "Artist: robyn\n",
      "  dancehallqueen: 2\n",
      "  dontfuckingtellmewhattodo: 2\n",
      "  lovekills: 2\n",
      "  dancingonmyown: 2\n",
      "  ushouldknowbetter: 2\n",
      "\n",
      "Artist: cher\n",
      "  fernando: 2\n",
      "  mylove: 2\n",
      "  lovehurts: 2\n",
      "  olmanriver: 1\n",
      "  dixie: 1\n"
     ]
    },
    {
     "data": {
      "image/png": "[encoded data removed]",
      "text/plain": [
       "<Figure size 1200x700 with 1 Axes>"
      ]
     },
     "metadata": {},
     "output_type": "display_data"
    },
    {
     "name": "stdout",
     "output_type": "stream",
     "text": [
      "\n",
      "Lexical Diversity Comparison:\n",
      "  robyn: 0.142\n",
      "  cher: 0.103\n"
     ]
    }
   ],
   "source": [
    "\n",
    "# Define the data location\n",
    "data_location = \"/Users/home/Documents/GitHub/ADS509_2.1\"\n",
    "\n",
    "# Load the cleaned lyrics data from files\n",
    "clean_lyrics_data = {}\n",
    "clean_lyrics_folder = os.path.join(data_location, \"clean_lyrics\")\n",
    "\n",
    "if os.path.exists(clean_lyrics_folder):\n",
    "    for artist_folder in os.listdir(clean_lyrics_folder):\n",
    "        artist_path = os.path.join(clean_lyrics_folder, artist_folder)\n",
    "        if os.path.isdir(artist_path):\n",
    "            clean_lyrics_data[artist_folder] = {}\n",
    "            for filename in os.listdir(artist_path):\n",
    "                if filename.endswith('_clean.txt'):\n",
    "                    with open(os.path.join(artist_path, filename), 'r', encoding='utf-8') as f:\n",
    "                        content = f.read()\n",
    "                        song = filename.replace('_clean.txt', '')\n",
    "                        clean_lyrics_data[artist_folder][song] = content.split()\n",
    "    print(f\"Loaded cleaned lyrics data for {len(clean_lyrics_data)} artists\")\n",
    "else:\n",
    "    print(f\"Warning: Clean lyrics folder not found at {clean_lyrics_folder}\")\n",
    "\n",
    "# Focus on the lyrics data which appears to be properly cleaned\n",
    "print(\"\\nLyrics Data Statistics:\")\n",
    "for artist in clean_lyrics_data:\n",
    "    print(f\"\\nArtist: {artist}\")\n",
    "    all_tokens = []\n",
    "    for song in clean_lyrics_data[artist]:\n",
    "        all_tokens.extend(clean_lyrics_data[artist][song])\n",
    "    descriptive_stats(all_tokens, num_tokens=10)\n",
    "\n",
    "# Create a histogram of song lengths for each artist\n",
    "print(\"\\nCreating histograms of song lengths...\")\n",
    "for artist in clean_lyrics_data:\n",
    "    # Collect song lengths\n",
    "    song_lengths = []\n",
    "    for song, tokens in clean_lyrics_data[artist].items():\n",
    "        song_lengths.append(len(tokens))\n",
    "    \n",
    "    # Create histogram\n",
    "    plt.figure(figsize=(10, 6))\n",
    "    plt.hist(song_lengths, bins=20, alpha=0.7)\n",
    "    plt.title(f'Song Length Distribution for {artist}')\n",
    "    plt.xlabel('Number of Tokens')\n",
    "    plt.ylabel('Frequency')\n",
    "    plt.grid(True, alpha=0.3)\n",
    "    plt.show()\n",
    "    \n",
    "    # Print some basic statistics about song lengths\n",
    "    print(f\"\\nSong length statistics for {artist}:\")\n",
    "    print(f\"  Average song length: {np.mean(song_lengths):.1f} tokens\")\n",
    "    print(f\"  Median song length: {np.median(song_lengths):.1f} tokens\")\n",
    "    print(f\"  Shortest song: {min(song_lengths)} tokens\")\n",
    "    print(f\"  Longest song: {max(song_lengths)} tokens\")\n",
    "    print(f\"  Total songs: {len(song_lengths)}\")\n",
    "\n",
    "# Find the five most common words in song titles by artist\n",
    "print(\"\\nFive most common words in song titles by artist:\")\n",
    "for artist in clean_lyrics_data:\n",
    "    print(f\"\\nArtist: {artist}\")\n",
    "    \n",
    "    # Extract words from song titles, properly parsing the format\n",
    "    title_words = []\n",
    "    for song_key in clean_lyrics_data[artist].keys():\n",
    "        # Extract just the song title part (after the artist_ prefix)\n",
    "        if artist.lower() + \"_\" in song_key.lower():\n",
    "            song_title = song_key.lower().split(artist.lower() + \"_\", 1)[1]\n",
    "        else:\n",
    "            song_title = song_key\n",
    "        \n",
    "        # Clean the title and split into words\n",
    "        clean_title = re.sub(r'[^\\w\\s]', '', song_title).lower()\n",
    "        # Remove numbers\n",
    "        clean_title = re.sub(r'\\d+', '', clean_title)\n",
    "        words = [word for word in clean_title.split() if word not in stopwords.words('english') and len(word) > 1]\n",
    "        title_words.extend(words)\n",
    "    \n",
    "    # Count and display the most common words\n",
    "    word_counts = Counter(title_words)\n",
    "    most_common = word_counts.most_common(5)\n",
    "    if most_common:\n",
    "        for word, count in most_common:\n",
    "            print(f\"  {word}: {count}\")\n",
    "    else:\n",
    "        print(\"  No common words found after filtering\")\n",
    "\n",
    "# Create a dataframe with song lengths for each artist\n",
    "song_lengths_df = []\n",
    "for artist in clean_lyrics_data:\n",
    "    for song, tokens in clean_lyrics_data[artist].items():\n",
    "        song_lengths_df.append({\n",
    "            'artist': artist,\n",
    "            'song': song,\n",
    "            'length': len(tokens)\n",
    "        })\n",
    "\n",
    "# Convert to DataFrame\n",
    "song_length_df = pd.DataFrame(song_lengths_df)\n",
    "\n",
    "# Create histogram of song lengths by artist\n",
    "plt.figure(figsize=(12, 7))\n",
    "for artist in song_length_df['artist'].unique():\n",
    "    artist_data = song_length_df[song_length_df['artist'] == artist]['length']\n",
    "    plt.hist(artist_data, bins=20, alpha=0.5, label=artist)\n",
    "\n",
    "plt.title('Distribution of Song Lengths by Artist')\n",
    "plt.xlabel('Number of Tokens')\n",
    "plt.ylabel('Frequency')\n",
    "plt.legend()\n",
    "plt.grid(True, alpha=0.3)\n",
    "plt.show()\n",
    "\n",
    "# Compare the lexical diversity between artists\n",
    "print(\"\\nLexical Diversity Comparison:\")\n",
    "for artist in clean_lyrics_data:\n",
    "    all_tokens = []\n",
    "    for song in clean_lyrics_data[artist]:\n",
    "        all_tokens.extend(clean_lyrics_data[artist][song])\n",
    "    num_tokens = len(all_tokens)\n",
    "    num_unique_tokens = len(set(all_tokens))\n",
    "    lexical_diversity = num_unique_tokens / num_tokens if num_tokens > 0 else 0.0\n",
    "    print(f\"  {artist}: {lexical_diversity:.3f}\")"
   ]
  },
  {
   "cell_type": "markdown",
   "id": "46294409",
   "metadata": {},
   "source": [
    "Q: How do you think the \"top 5 words\" would be different if we left stopwords in the data? \n",
    "\n",
    "A: If stopwords were included in the analysis, the top words would shift dramatically from content words to function words. Instead of seeing meaningful terms like \"know\" (308), \"dont\" (301), and \"love\" (275) at the top, we would likely see:\n",
    "\n",
    "\"the\" - Typically the most common word in English text\n",
    "\"and\" - Used extensively to connect phrases and ideas in lyrics\n",
    "\"to\" - Common in expressions of intent/direction in songs\n",
    "\"i\" - Already appears frequently (299 times) even after stopword removal\n",
    "\"you\" - Central to many songs addressing a listener/lover\n",
    "This would obscure the thematic content of the lyrics, as these function words appear consistently across all types of text regardless of topic. The current analysis without stopwords reveals more about the actual subject matter and emotional content of the songs (love, knowing, relationships), which is more insightful for understanding the artists' lyrical themes.\n",
    "\n",
    "Q: What were your prior beliefs about the lexical diversity between the artists? Does the difference (or lack thereof) in lexical diversity between the artists conform to your prior beliefs? \n",
    "\n",
    "A: Based on the data shown for Robyn (lexical diversity of 0.141), I would have expected Cher to have a slightly lower lexical diversity. My reasoning:\n",
    "\n",
    "Pop artists like Robyn and Cher typically work within commercial constraints that favor repetition and accessible vocabulary.\n",
    "Cher's longer career spanning multiple decades might suggest more formulaic songwriting in some periods, potentially reducing lexical diversity.\n",
    "However, Cher's genre-crossing career (folk, disco, dance-pop, rock) could counteract this by introducing varied vocabulary from different musical traditions.\n",
    "The relatively low lexical diversity for Robyn (0.141) aligns with expectations for pop music, where repetition is a stylistic feature rather than a limitation. Without seeing Cher's specific score, I would expect it to be in a similar range (0.12-0.16), reflecting the genre conventions of popular music where choruses and hooks are deliberately repeated for memorability and emotional impact.\n",
    "\n",
    "The actual comparison would be more informative if we could see the complete statistics for both artists side by side.\n"
   ]
  },
  {
   "cell_type": "markdown",
   "id": "4d4e1ac1",
   "metadata": {},
   "source": [
    "\n",
    "## Specialty Statistics\n",
    "\n",
    "The descriptive statistics we have calculated are quite generic. You will now calculate a handful of statistics tailored to these data.\n",
    "\n",
    "1. Ten most common emojis by artist in the twitter descriptions.\n",
    "1. Ten most common hashtags by artist in the twitter descriptions.\n",
    "1. Five most common words in song titles by artist. \n",
    "1. For each artist, a histogram of song lengths (in terms of number of tokens) \n",
    "\n",
    "We can use the `emoji` library to help us identify emojis and you have been given a function to help you.\n"
   ]
  },
  {
   "cell_type": "code",
   "execution_count": 17,
   "id": "753a5a3e",
   "metadata": {},
   "outputs": [],
   "source": [
    "import emoji\n",
    "assert(emoji.is_emoji(\"❤️\"))\n",
    "assert(not emoji.is_emoji(\":-)\"))"
   ]
  },
  {
   "cell_type": "markdown",
   "id": "986fc4c0",
   "metadata": {},
   "source": [
    "### Emojis 😁\n",
    "\n",
    "What are the ten most common emojis by artist in the twitter descriptions? \n"
   ]
  },
  {
   "cell_type": "code",
   "execution_count": 19,
   "id": "269cd433",
   "metadata": {},
   "outputs": [
    {
     "name": "stdout",
     "output_type": "stream",
     "text": [
      "Top 10 emojis by artist in Twitter descriptions:\n",
      "\n",
      "User: cher_followers_data\n",
      "  ❤: 94506\n",
      "  🌈: 66291\n",
      "  ♥: 48059\n",
      "  🏳: 47174\n",
      "  ✨: 45846\n",
      "  🌊: 31234\n",
      "  💙: 31050\n",
      "  🏻: 25195\n",
      "  ✌: 21963\n",
      "  💜: 21571\n",
      "\n",
      "User: robynkonichiwa_followers_data\n",
      "  🌈: 6086\n",
      "  ❤: 5635\n",
      "  🏳: 4641\n",
      "  ♥: 4249\n",
      "  ✨: 3217\n",
      "  🏻: 1751\n",
      "  ✌: 1495\n",
      "  ♀: 1347\n",
      "  🏼: 1340\n",
      "  💙: 1200\n",
      "\n",
      "User: cher_followers\n",
      "  No emojis found\n",
      "\n",
      "User: robynkonichiwa_followers\n",
      "  No emojis found\n"
     ]
    }
   ],
   "source": [
    "\n",
    "\n",
    "# Now analyze emojis using the original data\n",
    "emoji_counts_by_artist = {}\n",
    "\n",
    "for user, text in original_twitter_data.items():\n",
    "    # Extract all emojis from the text\n",
    "    emojis_found = [c for c in text if emoji.is_emoji(c)]\n",
    "    emoji_counts = Counter(emojis_found)\n",
    "    emoji_counts_by_artist[user] = emoji_counts\n",
    "\n",
    "# Display the top 10 emojis for each artist\n",
    "print(\"Top 10 emojis by artist in Twitter descriptions:\")\n",
    "for user, emoji_counter in emoji_counts_by_artist.items():\n",
    "    print(f\"\\nUser: {user}\")\n",
    "    top_emojis = emoji_counter.most_common(10)\n",
    "    if top_emojis:\n",
    "        for em, count in top_emojis:\n",
    "            print(f\"  {em}: {count}\")\n",
    "    else:\n",
    "        print(\"  No emojis found\")"
   ]
  },
  {
   "cell_type": "markdown",
   "id": "99bc5e00",
   "metadata": {},
   "source": [
    "### Hashtags\n",
    "\n",
    "What are the ten most common hashtags by artist in the twitter descriptions? \n"
   ]
  },
  {
   "cell_type": "code",
   "execution_count": 20,
   "id": "07c396f1",
   "metadata": {},
   "outputs": [
    {
     "name": "stdout",
     "output_type": "stream",
     "text": [
      "Top 10 hashtags by artist in Twitter descriptions:\n",
      "\n",
      "User: cher_followers_data\n",
      "  #resist: 11900\n",
      "  #blm: 11088\n",
      "  #blacklivesmatter: 8526\n",
      "  #theresistance: 3562\n",
      "  #fbr: 3513\n",
      "  #resistance: 3114\n",
      "  #1: 3111\n",
      "  #voteblue: 2363\n",
      "  #lgbtq: 2082\n",
      "  #music: 1610\n",
      "\n",
      "User: robynkonichiwa_followers_data\n",
      "  #blacklivesmatter: 643\n",
      "  #blm: 405\n",
      "  #music: 308\n",
      "  #1: 228\n",
      "  #teamfollowback: 136\n",
      "  #edm: 112\n",
      "  #lgbtq: 90\n",
      "  #resist: 89\n",
      "  #travel: 73\n",
      "  #love: 73\n",
      "\n",
      "User: cher_followers\n",
      "  No hashtags found\n",
      "\n",
      "User: robynkonichiwa_followers\n",
      "  No hashtags found\n"
     ]
    }
   ],
   "source": [
    "# Hashtags - Find the ten most common hashtags by artist in Twitter descriptions\n",
    "hashtag_counts_by_artist = {}\n",
    "hashtag_pattern = re.compile(r'#\\w+')\n",
    "\n",
    "for user, text in original_twitter_data.items():\n",
    "    # Find all hashtags in the text\n",
    "    hashtags = hashtag_pattern.findall(text.lower())\n",
    "    hashtag_counter = Counter(hashtags)\n",
    "    hashtag_counts_by_artist[user] = hashtag_counter\n",
    "\n",
    "# Display the top 10 hashtags for each artist\n",
    "print(\"Top 10 hashtags by artist in Twitter descriptions:\")\n",
    "for user, hashtag_counter in hashtag_counts_by_artist.items():\n",
    "    print(f\"\\nUser: {user}\")\n",
    "    top_hashtags = hashtag_counter.most_common(10)\n",
    "    if top_hashtags:\n",
    "        for tag, count in top_hashtags:\n",
    "            print(f\"  {tag}: {count}\")\n",
    "    else:\n",
    "        print(\"  No hashtags found\")"
   ]
  },
  {
   "cell_type": "markdown",
   "id": "d10f21d5",
   "metadata": {},
   "source": [
    "### Song Titles\n",
    "\n",
    "What are the five most common words in song titles by artist? The song titles should be on the first line of the lyrics pages, so if you have kept the raw file contents around, you will not need to re-read the data.\n"
   ]
  },
  {
   "cell_type": "code",
   "execution_count": 21,
   "id": "bb69b36b",
   "metadata": {},
   "outputs": [
    {
     "name": "stdout",
     "output_type": "stream",
     "text": [
      "Top 5 words in song titles by artist:\n",
      "\n",
      "Artist: robyn\n",
      "  love: 6\n",
      "  dont: 4\n",
      "  hang: 3\n",
      "  tell: 3\n",
      "  girl: 3\n",
      "\n",
      "Artist: cher\n",
      "  love: 38\n",
      "  man: 12\n",
      "  song: 11\n",
      "  dont: 10\n",
      "  come: 7\n"
     ]
    }
   ],
   "source": [
    "\n",
    "title_words_by_artist = {}\n",
    "\n",
    "for artist, songs in lyrics_data.items():\n",
    "    # Extract titles from the first line of each song\n",
    "    titles = []\n",
    "    for song_name, lyrics in songs.items():\n",
    "        # Get the first line which should contain the title\n",
    "        first_line = lyrics.strip().split('\\n')[0]\n",
    "        # Remove quotes and other punctuation\n",
    "        clean_title = re.sub(r'[^\\w\\s]', '', first_line).lower()\n",
    "        # Remove numbers\n",
    "        clean_title = re.sub(r'\\d+', '', clean_title)\n",
    "        titles.append(clean_title)\n",
    "    \n",
    "    # Tokenize titles and count words\n",
    "    all_title_words = []\n",
    "    for title in titles:\n",
    "        words = [w for w in title.split() if w not in sw and len(w) > 1]\n",
    "        all_title_words.extend(words)\n",
    "    \n",
    "    title_words_by_artist[artist] = Counter(all_title_words)\n",
    "\n",
    "# Display the top 5 words in song titles for each artist\n",
    "print(\"Top 5 words in song titles by artist:\")\n",
    "for artist, word_counter in title_words_by_artist.items():\n",
    "    print(f\"\\nArtist: {artist}\")\n",
    "    top_words = word_counter.most_common(5)\n",
    "    if top_words:\n",
    "        for word, count in top_words:\n",
    "            print(f\"  {word}: {count}\")\n",
    "    else:\n",
    "        print(\"  No words found after filtering\")"
   ]
  },
  {
   "cell_type": "markdown",
   "id": "5dd4fd71",
   "metadata": {},
   "source": [
    "### Song Lengths\n",
    "\n",
    "For each artist, a histogram of song lengths (in terms of number of tokens). If you put the song lengths in a data frame with an artist column, matplotlib will make the plotting quite easy. An example is given to help you out. \n"
   ]
  },
  {
   "cell_type": "code",
   "execution_count": 22,
   "id": "805a1e52",
   "metadata": {},
   "outputs": [
    {
     "data": {
      "text/plain": [
       "artist\n",
       "Artist 1    Axes(0.125,0.11;0.775x0.77)\n",
       "Artist 2    Axes(0.125,0.11;0.775x0.77)\n",
       "Name: length, dtype: object"
      ]
     },
     "execution_count": 22,
     "metadata": {},
     "output_type": "execute_result"
    },
    {
     "data": {
      "image/png": "[encoded data removed]",
      "text/plain": [
       "<Figure size 640x480 with 1 Axes>"
      ]
     },
     "metadata": {},
     "output_type": "display_data"
    }
   ],
   "source": [
    "num_replicates = 1000\n",
    "\n",
    "df = pd.DataFrame({\n",
    "    \"artist\" : ['Artist 1'] * num_replicates + ['Artist 2']*num_replicates,\n",
    "    \"length\" : np.concatenate((np.random.poisson(125,num_replicates),np.random.poisson(150,num_replicates)))\n",
    "})\n",
    "\n",
    "df.groupby('artist')['length'].plot(kind=\"hist\",density=True,alpha=0.5,legend=True)"
   ]
  },
  {
   "cell_type": "markdown",
   "id": "8fde9ebb",
   "metadata": {},
   "source": [
    "Since the lyrics may be stored with carriage returns or tabs, it may be useful to have a function that can collapse whitespace, using regular expressions, and be used for splitting. \n",
    "\n",
    "Q: What does the regular expression `'\\s+'` match on? \n",
    "\n",
    "A: \n"
   ]
  },
  {
   "cell_type": "code",
   "execution_count": 26,
   "id": "f0e34516",
   "metadata": {},
   "outputs": [],
   "source": [
    "collapse_whitespace = re.compile(r'\\s+')\n",
    "\n",
    "def tokenize_lyrics(lyric) : \n",
    "    \"\"\"strip and split on whitespace\"\"\"\n",
    "    return([item.lower() for item in collapse_whitespace.split(lyric)])"
   ]
  },
  {
   "cell_type": "code",
   "execution_count": 27,
   "id": "2294c440",
   "metadata": {},
   "outputs": [
    {
     "data": {
      "image/png": "[encoded data removed]",
      "text/plain": [
       "<Figure size 1000x600 with 1 Axes>"
      ]
     },
     "metadata": {},
     "output_type": "display_data"
    },
    {
     "name": "stdout",
     "output_type": "stream",
     "text": [
      "Song Length Statistics by Artist:\n",
      "        count        mean        std   min    25%    50%     75%    max\n",
      "artist                                                                 \n",
      "cher    316.0  113.658228  39.828326  22.0  85.00  110.0  137.00  241.0\n",
      "robyn   104.0  146.413462  67.615649  10.0  96.75  137.0  181.25  351.0\n"
     ]
    }
   ],
   "source": [
    "\n",
    "# Create a dataframe with song lengths for each artist\n",
    "song_lengths = []\n",
    "\n",
    "for artist, songs in clean_lyrics_data.items():\n",
    "    for song_title, tokens in songs.items():\n",
    "        song_lengths.append({\n",
    "            'artist': artist,\n",
    "            'song': song_title,\n",
    "            'length': len(tokens)\n",
    "        })\n",
    "\n",
    "# Convert to DataFrame\n",
    "song_length_df = pd.DataFrame(song_lengths)\n",
    "\n",
    "# Create histogram of song lengths by artist\n",
    "plt.figure(figsize=(10, 6))\n",
    "song_length_df.groupby('artist')['length'].plot(\n",
    "    kind=\"hist\", \n",
    "    density=True, \n",
    "    alpha=0.5, \n",
    "    legend=True, \n",
    "    bins=15\n",
    ")\n",
    "\n",
    "plt.title('Distribution of Song Lengths by Artist')\n",
    "plt.xlabel('Number of Tokens')\n",
    "plt.ylabel('Density')\n",
    "plt.grid(True, alpha=0.3)\n",
    "plt.show()\n",
    "\n",
    "# Print some summary statistics\n",
    "print(\"Song Length Statistics by Artist:\")\n",
    "print(song_length_df.groupby('artist')['length'].describe())"
   ]
  },
  {
   "cell_type": "code",
   "execution_count": null,
   "id": "31495c6c",
   "metadata": {},
   "outputs": [],
   "source": []
  }
 ],
 "metadata": {
  "kernelspec": {
   "display_name": "Python 3",
   "language": "python",
   "name": "python3"
  },
  "language_info": {
   "codemirror_mode": {
    "name": "ipython",
    "version": 3
   },
   "file_extension": ".py",
   "mimetype": "text/x-python",
   "name": "python",
   "nbconvert_exporter": "python",
   "pygments_lexer": "ipython3",
   "version": "3.11.10"
  }
 },
 "nbformat": 4,
 "nbformat_minor": 5
}
